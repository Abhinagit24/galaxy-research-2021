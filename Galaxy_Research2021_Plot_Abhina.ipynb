{
  "nbformat": 4,
  "nbformat_minor": 0,
  "metadata": {
    "colab": {
      "provenance": []
    },
    "kernelspec": {
      "name": "python3",
      "display_name": "Python 3"
    },
    "language_info": {
      "name": "python"
    }
  },
  "cells": [
    {
      "cell_type": "code",
      "metadata": {
        "colab": {
          "resources": {
            "http://localhost:8080/nbextensions/google.colab/files.js": {
              "data": "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",
              "ok": true,
              "headers": [
                [
                  "content-type",
                  "application/javascript"
                ]
              ],
              "status": 200,
              "status_text": "OK"
            }
          },
          "base_uri": "https://localhost:8080/",
          "height": 75
        },
        "id": "04VXskmkjop_",
        "outputId": "474ccf34-dfb3-4b5f-ed74-f8a856535efa"
      },
      "source": [
        "#import the csv's(9 files)\n",
        "import pandas as pd\n",
        "import matplotlib.patches as mpatches\n",
        "from google.colab import files\n",
        "from mpl_toolkits import mplot3d\n",
        "uploaded = files.upload()"
      ],
      "execution_count": null,
      "outputs": [
        {
          "output_type": "display_data",
          "data": {
            "text/html": [
              "\n",
              "     <input type=\"file\" id=\"files-5c06d8e8-dabf-498c-a950-08602b5de3ee\" name=\"files[]\" multiple disabled\n",
              "        style=\"border:none\" />\n",
              "     <output id=\"result-5c06d8e8-dabf-498c-a950-08602b5de3ee\">\n",
              "      Upload widget is only available when the cell has been executed in the\n",
              "      current browser session. Please rerun this cell to enable.\n",
              "      </output>\n",
              "      <script src=\"/nbextensions/google.colab/files.js\"></script> "
            ],
            "text/plain": [
              "<IPython.core.display.HTML object>"
            ]
          },
          "metadata": {}
        },
        {
          "output_type": "stream",
          "name": "stdout",
          "text": [
            "Saving Eric_starforming_with_blueslope2.csv to Eric_starforming_with_blueslope2.csv\n"
          ]
        }
      ]
    },
    {
      "cell_type": "code",
      "metadata": {
        "colab": {
          "base_uri": "https://localhost:8080/",
          "height": 206
        },
        "id": "GSI_5SFrju6K",
        "outputId": "9d88a3cd-8a02-4cfb-d0b5-944f18cffe91"
      },
      "source": [
        "#defining the E+A csv's of each of us as Dataframes(df(your first name letter)1)\n",
        "import pandas as pd\n",
        "import matplotlib.pyplot as plt\n",
        "\n",
        "df = pd.read_csv('falcone_method2021_center_of_coma.csv')\n",
        "ra_coma = df['ra']\n",
        "dec_coma = df['dec']\n",
        "\n",
        "dfA1= pd.read_csv('falcone_method2021_E+A_1.csv')\n",
        "dfA1.head()\n",
        "\n",
        "dfV1=pd.read_csv('Victoria_E+A.csv')\n",
        "dfV1.head()\n",
        "\n",
        "dfE1=pd.read_csv('Eric_E+A2.csv')\n",
        "dfE1.head()\n",
        "\n",
        "dfS1=pd.read_csv('Sam_E+A.csv')\n",
        "dfS1.head()"
      ],
      "execution_count": null,
      "outputs": [
        {
          "output_type": "execute_result",
          "data": {
            "text/html": [
              "<div>\n",
              "<style scoped>\n",
              "    .dataframe tbody tr th:only-of-type {\n",
              "        vertical-align: middle;\n",
              "    }\n",
              "\n",
              "    .dataframe tbody tr th {\n",
              "        vertical-align: top;\n",
              "    }\n",
              "\n",
              "    .dataframe thead th {\n",
              "        text-align: right;\n",
              "    }\n",
              "</style>\n",
              "<table border=\"1\" class=\"dataframe\">\n",
              "  <thead>\n",
              "    <tr style=\"text-align: right;\">\n",
              "      <th></th>\n",
              "      <th>ra</th>\n",
              "      <th>dec</th>\n",
              "      <th>rating</th>\n",
              "    </tr>\n",
              "  </thead>\n",
              "  <tbody>\n",
              "    <tr>\n",
              "      <th>0</th>\n",
              "      <td>194.81246</td>\n",
              "      <td>28.251011</td>\n",
              "      <td>1</td>\n",
              "    </tr>\n",
              "    <tr>\n",
              "      <th>1</th>\n",
              "      <td>194.78567</td>\n",
              "      <td>28.728221</td>\n",
              "      <td>2</td>\n",
              "    </tr>\n",
              "    <tr>\n",
              "      <th>2</th>\n",
              "      <td>194.96567</td>\n",
              "      <td>28.098530</td>\n",
              "      <td>2</td>\n",
              "    </tr>\n",
              "    <tr>\n",
              "      <th>3</th>\n",
              "      <td>195.00467</td>\n",
              "      <td>29.904059</td>\n",
              "      <td>2</td>\n",
              "    </tr>\n",
              "    <tr>\n",
              "      <th>4</th>\n",
              "      <td>195.04468</td>\n",
              "      <td>29.466494</td>\n",
              "      <td>2</td>\n",
              "    </tr>\n",
              "  </tbody>\n",
              "</table>\n",
              "</div>"
            ],
            "text/plain": [
              "          ra        dec  rating\n",
              "0  194.81246  28.251011       1\n",
              "1  194.78567  28.728221       2\n",
              "2  194.96567  28.098530       2\n",
              "3  195.00467  29.904059       2\n",
              "4  195.04468  29.466494       2"
            ]
          },
          "metadata": {},
          "execution_count": 2
        }
      ]
    },
    {
      "cell_type": "code",
      "metadata": {
        "colab": {
          "base_uri": "https://localhost:8080/",
          "height": 206
        },
        "id": "TE8-Ta26ju71",
        "outputId": "98e98ee8-8e9b-4fe9-feae-778533351f96"
      },
      "source": [
        "#defining the 'starforming with blue slope' csv's of each of us as Dataframes(df(your first name letter)2) and defining the ra_emission and dec_emission values\n",
        "dfA2= pd.read_csv('falcone_method2021_starforming_with_blueslope_new_1.csv')\n",
        "ra_emission_A = dfA2['ra']\n",
        "dec_emission_A = dfA2['dec']\n",
        "dfA2.head()\n",
        "\n",
        "dfV2= pd.read_csv('Victorias_blue_slope_star_forming.csv')\n",
        "ra_emission_V = dfV2['ra']\n",
        "dec_emission_V = dfV2['dec']\n",
        "dfV2.head()\n",
        "\n",
        "dfE2= pd.read_csv('Eric_starforming_with_blueslope2.csv')\n",
        "ra_emission_E = dfE2['ra']\n",
        "dec_emission_E = dfE2['dec']\n",
        "dfE2.head()\n",
        "\n",
        "dfS2= pd.read_csv('Sam_starforming_with_blueslope1.csv')\n",
        "ra_emission_S = dfS2['ra']\n",
        "dec_emission_S = dfS2['dec']\n",
        "dfS2.head()#prints the first five rows of the dataframe"
      ],
      "execution_count": null,
      "outputs": [
        {
          "output_type": "execute_result",
          "data": {
            "text/html": [
              "<div>\n",
              "<style scoped>\n",
              "    .dataframe tbody tr th:only-of-type {\n",
              "        vertical-align: middle;\n",
              "    }\n",
              "\n",
              "    .dataframe tbody tr th {\n",
              "        vertical-align: top;\n",
              "    }\n",
              "\n",
              "    .dataframe thead th {\n",
              "        text-align: right;\n",
              "    }\n",
              "</style>\n",
              "<table border=\"1\" class=\"dataframe\">\n",
              "  <thead>\n",
              "    <tr style=\"text-align: right;\">\n",
              "      <th></th>\n",
              "      <th>ra</th>\n",
              "      <th>dec</th>\n",
              "    </tr>\n",
              "  </thead>\n",
              "  <tbody>\n",
              "    <tr>\n",
              "      <th>0</th>\n",
              "      <td>194.84648</td>\n",
              "      <td>28.488604</td>\n",
              "    </tr>\n",
              "    <tr>\n",
              "      <th>1</th>\n",
              "      <td>194.91721</td>\n",
              "      <td>28.630812</td>\n",
              "    </tr>\n",
              "    <tr>\n",
              "      <th>2</th>\n",
              "      <td>195.13003</td>\n",
              "      <td>28.950540</td>\n",
              "    </tr>\n",
              "    <tr>\n",
              "      <th>3</th>\n",
              "      <td>195.15476</td>\n",
              "      <td>28.664141</td>\n",
              "    </tr>\n",
              "    <tr>\n",
              "      <th>4</th>\n",
              "      <td>195.15777</td>\n",
              "      <td>28.058091</td>\n",
              "    </tr>\n",
              "  </tbody>\n",
              "</table>\n",
              "</div>"
            ],
            "text/plain": [
              "          ra        dec\n",
              "0  194.84648  28.488604\n",
              "1  194.91721  28.630812\n",
              "2  195.13003  28.950540\n",
              "3  195.15476  28.664141\n",
              "4  195.15777  28.058091"
            ]
          },
          "metadata": {},
          "execution_count": 3
        }
      ]
    },
    {
      "cell_type": "code",
      "metadata": {
        "colab": {
          "base_uri": "https://localhost:8080/",
          "height": 206
        },
        "id": "odybXylKju_W",
        "outputId": "b113f3c9-87a9-471b-f1e4-a72be9483e9b"
      },
      "source": [
        "#defining the dataframe for objects with rating 1 or 2(df(your first name letter)3)\n",
        "dfA3= dfA1[dfA1['rating'] < 3 ]\n",
        "dfA3.head()\n",
        "\n",
        "dfV3= dfV1[dfV1['rating'] < 3 ]\n",
        "dfV3.head()\n",
        "\n",
        "dfE3= dfE1[dfE1['rating'] < 3 ]\n",
        "dfE3.head()\n",
        "\n",
        "dfS3= dfS1[dfS1['rating'] < 3 ]\n",
        "dfS3.head()\n"
      ],
      "execution_count": null,
      "outputs": [
        {
          "output_type": "execute_result",
          "data": {
            "text/html": [
              "<div>\n",
              "<style scoped>\n",
              "    .dataframe tbody tr th:only-of-type {\n",
              "        vertical-align: middle;\n",
              "    }\n",
              "\n",
              "    .dataframe tbody tr th {\n",
              "        vertical-align: top;\n",
              "    }\n",
              "\n",
              "    .dataframe thead th {\n",
              "        text-align: right;\n",
              "    }\n",
              "</style>\n",
              "<table border=\"1\" class=\"dataframe\">\n",
              "  <thead>\n",
              "    <tr style=\"text-align: right;\">\n",
              "      <th></th>\n",
              "      <th>ra</th>\n",
              "      <th>dec</th>\n",
              "      <th>rating</th>\n",
              "    </tr>\n",
              "  </thead>\n",
              "  <tbody>\n",
              "    <tr>\n",
              "      <th>0</th>\n",
              "      <td>194.81246</td>\n",
              "      <td>28.251011</td>\n",
              "      <td>1</td>\n",
              "    </tr>\n",
              "    <tr>\n",
              "      <th>1</th>\n",
              "      <td>194.78567</td>\n",
              "      <td>28.728221</td>\n",
              "      <td>2</td>\n",
              "    </tr>\n",
              "    <tr>\n",
              "      <th>2</th>\n",
              "      <td>194.96567</td>\n",
              "      <td>28.098530</td>\n",
              "      <td>2</td>\n",
              "    </tr>\n",
              "    <tr>\n",
              "      <th>3</th>\n",
              "      <td>195.00467</td>\n",
              "      <td>29.904059</td>\n",
              "      <td>2</td>\n",
              "    </tr>\n",
              "    <tr>\n",
              "      <th>4</th>\n",
              "      <td>195.04468</td>\n",
              "      <td>29.466494</td>\n",
              "      <td>2</td>\n",
              "    </tr>\n",
              "  </tbody>\n",
              "</table>\n",
              "</div>"
            ],
            "text/plain": [
              "          ra        dec  rating\n",
              "0  194.81246  28.251011       1\n",
              "1  194.78567  28.728221       2\n",
              "2  194.96567  28.098530       2\n",
              "3  195.00467  29.904059       2\n",
              "4  195.04468  29.466494       2"
            ]
          },
          "metadata": {},
          "execution_count": 4
        }
      ]
    },
    {
      "cell_type": "code",
      "metadata": {
        "colab": {
          "base_uri": "https://localhost:8080/",
          "height": 206
        },
        "id": "oXNUrEXBjvBr",
        "outputId": "905b4e2e-3a21-476c-f03d-ab5a5f7b8902"
      },
      "source": [
        "#defining the ra_candidates and dec_candidates values for each\n",
        "ra_candidates_A = dfA3['ra']\n",
        "dec_candidates_A = dfA3['dec']\n",
        "\n",
        "ra_candidates_V = dfV3['ra']\n",
        "dec_candidates_V = dfV3['dec']\n",
        "\n",
        "ra_candidates_E = dfE3['ra']\n",
        "dec_candidates_E = dfE3['dec']\n",
        "\n",
        "ra_candidates_S = dfS3['ra']\n",
        "dec_candidates_S = dfS3['dec']\n",
        "#defining the Dataframes for objects with rating 3(df(your first name letter)4)\n",
        "dfA4= dfA1[dfA1['rating'] == 3]\n",
        "dfA4.head()\n",
        "\n",
        "dfV4= dfV1[dfV1['rating'] == 3]\n",
        "dfV4.head()\n",
        "\n",
        "dfE4= dfE1[dfE1['rating'] == 3]\n",
        "dfE4.head()\n",
        "\n",
        "dfS4= dfS1[dfS1['rating'] == 3]\n",
        "dfS4.head()"
      ],
      "execution_count": null,
      "outputs": [
        {
          "output_type": "execute_result",
          "data": {
            "text/html": [
              "<div>\n",
              "<style scoped>\n",
              "    .dataframe tbody tr th:only-of-type {\n",
              "        vertical-align: middle;\n",
              "    }\n",
              "\n",
              "    .dataframe tbody tr th {\n",
              "        vertical-align: top;\n",
              "    }\n",
              "\n",
              "    .dataframe thead th {\n",
              "        text-align: right;\n",
              "    }\n",
              "</style>\n",
              "<table border=\"1\" class=\"dataframe\">\n",
              "  <thead>\n",
              "    <tr style=\"text-align: right;\">\n",
              "      <th></th>\n",
              "      <th>ra</th>\n",
              "      <th>dec</th>\n",
              "      <th>rating</th>\n",
              "    </tr>\n",
              "  </thead>\n",
              "  <tbody>\n",
              "    <tr>\n",
              "      <th>7</th>\n",
              "      <td>194.80800</td>\n",
              "      <td>28.076245</td>\n",
              "      <td>3</td>\n",
              "    </tr>\n",
              "    <tr>\n",
              "      <th>8</th>\n",
              "      <td>194.83216</td>\n",
              "      <td>27.973502</td>\n",
              "      <td>3</td>\n",
              "    </tr>\n",
              "    <tr>\n",
              "      <th>9</th>\n",
              "      <td>194.83416</td>\n",
              "      <td>28.074292</td>\n",
              "      <td>3</td>\n",
              "    </tr>\n",
              "    <tr>\n",
              "      <th>10</th>\n",
              "      <td>194.83756</td>\n",
              "      <td>28.441482</td>\n",
              "      <td>3</td>\n",
              "    </tr>\n",
              "    <tr>\n",
              "      <th>11</th>\n",
              "      <td>194.83922</td>\n",
              "      <td>27.973566</td>\n",
              "      <td>3</td>\n",
              "    </tr>\n",
              "  </tbody>\n",
              "</table>\n",
              "</div>"
            ],
            "text/plain": [
              "           ra        dec  rating\n",
              "7   194.80800  28.076245       3\n",
              "8   194.83216  27.973502       3\n",
              "9   194.83416  28.074292       3\n",
              "10  194.83756  28.441482       3\n",
              "11  194.83922  27.973566       3"
            ]
          },
          "metadata": {},
          "execution_count": 5
        }
      ]
    },
    {
      "cell_type": "code",
      "metadata": {
        "id": "EXdC7jz8Tcla"
      },
      "source": [
        "#for candidates without eq width values\n",
        "dfA5= dfA1[dfA1['rating']== 5]\n",
        "dfA5.head()\n",
        "ra_candidates_likely = dfA5['ra']\n",
        "dec_candidates_likely = dfA5['dec']\n",
        "\n"
      ],
      "execution_count": null,
      "outputs": []
    },
    {
      "cell_type": "code",
      "metadata": {
        "colab": {
          "base_uri": "https://localhost:8080/",
          "height": 809
        },
        "id": "O3fZK-EXjvEc",
        "outputId": "e1c69cba-0ad5-40c5-ec0c-d04af19ded43"
      },
      "source": [
        "#defining the ra_candidates and dec_candidates of rating 3\n",
        "ra_candidates_of_rating3_A = dfA4['ra']\n",
        "dec_candidates_of_rating3_A = dfA4['dec']\n",
        "\n",
        "ra_candidates_of_rating3_V = dfV4['ra']\n",
        "dec_candidates_of_rating3_V = dfV4['dec']\n",
        "\n",
        "ra_candidates_of_rating3_E = dfE4['ra']\n",
        "dec_candidates_of_rating3_E = dfE4['dec']\n",
        "\n",
        "ra_candidates_of_rating3_S = dfS4['ra']\n",
        "dec_candidates_of_rating3_S = dfS4['dec']\n",
        "\n",
        "\n",
        "plt.scatter(ra_emission_A, dec_emission_A, label = 'Emission Abhina', color='blue')\n",
        "plt.scatter(ra_emission_V, dec_emission_V, label = 'Emission Victoria', color='blue', marker='v')\n",
        "plt.scatter(ra_emission_E, dec_emission_E, label = 'Emission Eric', color='blue', marker='s')\n",
        "plt.scatter(ra_emission_S, dec_emission_S, label = 'Emission Sam', color='blue', marker='P')\n",
        "\n",
        "plt.scatter(ra_candidates_of_rating3_A, dec_candidates_of_rating3_A, label = 'E+A rating 3 Abhina', color='orchid')\n",
        "plt.scatter(ra_candidates_of_rating3_V, dec_candidates_of_rating3_V, label = 'E+A rating 3 Victoria', color='orchid', marker='v')\n",
        "plt.scatter(ra_candidates_of_rating3_E, dec_candidates_of_rating3_E, label = 'E+A rating 3 Eric', color='orchid', marker='s')\n",
        "plt.scatter(ra_candidates_of_rating3_S, dec_candidates_of_rating3_S, label = 'E+A rating 3 Sam', color='orchid', marker='P')\n",
        "\n",
        "#scatter plotting\n",
        "plt.scatter(ra_candidates_A, dec_candidates_A, label = 'E+A Candidates Abhina', color='green')\n",
        "plt.scatter(ra_candidates_V, dec_candidates_V, label = 'E+A Candidates Victoria', color='green', marker='v')\n",
        "plt.scatter(ra_candidates_E, dec_candidates_E, label = 'E+A Candidates Eric', color='green', marker='s')\n",
        "plt.scatter(ra_candidates_S, dec_candidates_S, label = 'E+A Candidates Sam', color='green', marker='P')\n",
        "#plt.scatter(ra_candidates_likely, dec_candidates_likely, label = 'E+A candidates unsure', color='lawngreen', marker='X')\n",
        "\n",
        "\n",
        "plt.scatter(ra_coma, dec_coma, label = 'Center of Coma', color='red')\n",
        "plt.scatter(194.3514894,27.4978156,label = 'NGC 4839', color='orange')\n",
        "plt.scatter(195.23358854,27.79085228,label = 'NGC 4911', color='yellow')\n",
        "\n",
        "#drawing the rectangles around regions\n",
        "# specify the location of (left,bottom),width,height\n",
        "\n",
        "#Abhina\n",
        "#rect=mpatches.Rectangle((190,23),6,4.5,\n",
        "                        #fill = False,\n",
        "                        #color = \"purple\",\n",
        "                        #linewidth = 2,linestyle ='dotted')\n",
        "#plt.gca().add_patch(rect)\n",
        "#rect=mpatches.Rectangle((194,21),2,2,\n",
        "                        #fill = False,\n",
        "                        #color = \"purple\",\n",
        "                        #linewidth = 2,linestyle ='dotted')\n",
        "#plt.gca().add_patch(rect)\n",
        "\n",
        "#Victoria\n",
        "#rect=mpatches.Rectangle((195.22394,27.51955),2.45,0.4504,\n",
        "                        #fill = False,\n",
        "                        #color = \"blue\",\n",
        "                        #linewidth = 2,linestyle ='dotted')\n",
        "#plt.gca().add_patch(rect)\n",
        "\n",
        "#Eric\n",
        "#rect=mpatches.Rectangle((190,27.5),5,5,\n",
        "                        #fill = False,\n",
        "                        #color = \"red\",\n",
        "                        #linewidth = 2,linestyle ='dotted')\n",
        "#plt.gca().add_patch(rect)\n",
        "\n",
        "#Sam\n",
        "#rect=mpatches.Rectangle((194.7915,27.96995),0.40546,2,\n",
        "                        #fill = False,\n",
        "                        #color = \"green\",\n",
        "                        #linewidth = 2,linestyle ='dotted')\n",
        "#plt.gca().add_patch(rect)\n",
        "\n",
        "plt.grid()\n",
        "plt.legend()\n",
        "#ax = plt.axes(projection =\"3d\")\n",
        "plt.rcParams[\"figure.figsize\"] = [15,14] #probably you have to run this cell twice to get the exact size of the plot\n",
        "\n",
        "plt.show()"
      ],
      "execution_count": null,
      "outputs": [
        {
          "output_type": "display_data",
          "data": {
            "image/png": "[encoded data removed]",
            "text/plain": [
              "<Figure size 1080x1008 with 1 Axes>"
            ]
          },
          "metadata": {
            "needs_background": "light"
          }
        }
      ]
    },
    {
      "cell_type": "code",
      "metadata": {
        "id": "csmbkFqijvGe",
        "colab": {
          "base_uri": "https://localhost:8080/",
          "height": 36
        },
        "outputId": "2c828c34-e014-4320-ffed-55d1f65e4f55"
      },
      "source": [
        "plt.savefig('coma_plot_transparent',transparent=True)"
      ],
      "execution_count": null,
      "outputs": [
        {
          "output_type": "display_data",
          "data": {
            "text/plain": [
              "<Figure size 1080x1008 with 0 Axes>"
            ]
          },
          "metadata": {}
        }
      ]
    },
    {
      "cell_type": "code",
      "metadata": {
        "id": "YQ_q1lWXGhNe"
      },
      "source": [],
      "execution_count": null,
      "outputs": []
    },
    {
      "cell_type": "code",
      "metadata": {
        "id": "XNZw5SBbjvqg"
      },
      "source": [],
      "execution_count": null,
      "outputs": []
    }
  ]
}